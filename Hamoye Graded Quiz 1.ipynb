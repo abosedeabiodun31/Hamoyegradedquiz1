{
 "cells": [
  {
   "cell_type": "code",
   "execution_count": 1,
   "id": "111e750d-a148-4ca6-b7e4-f2ab7a879afb",
   "metadata": {},
   "outputs": [
    {
     "name": "stdout",
     "output_type": "stream",
     "text": [
      "Requirement already satisfied: pandas in c:\\users\\pc\\.conda\\envs\\pyton\\lib\\site-packages (2.2.0)\n",
      "Requirement already satisfied: numpy<2,>=1.23.2 in c:\\users\\pc\\.conda\\envs\\pyton\\lib\\site-packages (from pandas) (1.26.3)\n",
      "Requirement already satisfied: python-dateutil>=2.8.2 in c:\\users\\pc\\appdata\\roaming\\python\\python311\\site-packages (from pandas) (2.9.0.post0)\n",
      "Requirement already satisfied: pytz>=2020.1 in c:\\users\\pc\\.conda\\envs\\pyton\\lib\\site-packages (from pandas) (2023.3.post1)\n",
      "Requirement already satisfied: tzdata>=2022.7 in c:\\users\\pc\\.conda\\envs\\pyton\\lib\\site-packages (from pandas) (2023.4)\n",
      "Requirement already satisfied: six>=1.5 in c:\\users\\pc\\appdata\\roaming\\python\\python311\\site-packages (from python-dateutil>=2.8.2->pandas) (1.16.0)\n",
      "Note: you may need to restart the kernel to use updated packages.\n"
     ]
    }
   ],
   "source": [
    "pip install pandas"
   ]
  },
  {
   "cell_type": "code",
   "execution_count": 19,
   "id": "47f20930-358c-403f-9cb7-5f66e811d1a5",
   "metadata": {},
   "outputs": [],
   "source": [
    "import pandas as pd\n",
    "df = pd.read_csv(\"FoodBalanceSheets_E_Africa_NOFLAG.csv\", encoding=\"latin-1\")\n"
   ]
  },
  {
   "cell_type": "code",
   "execution_count": 20,
   "id": "aa81229c-bffe-4dbe-bd3e-daa6051275bc",
   "metadata": {},
   "outputs": [
    {
     "name": "stdout",
     "output_type": "stream",
     "text": [
      "First few rows:\n",
      "   Area Code     Area  Item Code         Item  Element Code  \\\n",
      "0          4  Algeria       2501   Population           511   \n",
      "1          4  Algeria       2501   Population          5301   \n",
      "2          4  Algeria       2901  Grand Total           664   \n",
      "3          4  Algeria       2901  Grand Total           674   \n",
      "4          4  Algeria       2901  Grand Total           684   \n",
      "\n",
      "                                  Element             Unit     Y2014  \\\n",
      "0           Total Population - Both sexes     1000 persons  38924.00   \n",
      "1                Domestic supply quantity      1000 tonnes      0.00   \n",
      "2           Food supply (kcal/capita/day)  kcal/capita/day   3377.00   \n",
      "3  Protein supply quantity (g/capita/day)     g/capita/day     94.90   \n",
      "4      Fat supply quantity (g/capita/day)     g/capita/day     80.06   \n",
      "\n",
      "      Y2015     Y2016     Y2017     Y2018  \n",
      "0  39728.00  40551.00  41389.00  42228.00  \n",
      "1      0.00      0.00      0.00      0.00  \n",
      "2   3379.00   3372.00   3341.00   3322.00  \n",
      "3     94.35     94.72     92.82     91.83  \n",
      "4     79.36     77.40     80.19     77.28  \n",
      "\n",
      "Last few rows:\n",
      "       Area Code      Area  Item Code           Item  Element Code  \\\n",
      "60938        181  Zimbabwe       2899  Miscellaneous          5142   \n",
      "60939        181  Zimbabwe       2899  Miscellaneous           645   \n",
      "60940        181  Zimbabwe       2899  Miscellaneous           664   \n",
      "60941        181  Zimbabwe       2899  Miscellaneous           674   \n",
      "60942        181  Zimbabwe       2899  Miscellaneous           684   \n",
      "\n",
      "                                      Element             Unit  Y2014  Y2015  \\\n",
      "60938                                    Food      1000 tonnes  42.00  46.00   \n",
      "60939     Food supply quantity (kg/capita/yr)               kg   3.06   3.33   \n",
      "60940           Food supply (kcal/capita/day)  kcal/capita/day   3.00   4.00   \n",
      "60941  Protein supply quantity (g/capita/day)     g/capita/day   0.10   0.11   \n",
      "60942      Fat supply quantity (g/capita/day)     g/capita/day   0.04   0.05   \n",
      "\n",
      "       Y2016  Y2017  Y2018  \n",
      "60938  33.00  19.00  16.00  \n",
      "60939   2.35   1.33   1.08  \n",
      "60940   3.00   1.00   1.00  \n",
      "60941   0.08   0.04   0.04  \n",
      "60942   0.03   0.02   0.01  \n",
      "\n",
      "DataFrame info:\n",
      "<class 'pandas.core.frame.DataFrame'>\n",
      "RangeIndex: 60943 entries, 0 to 60942\n",
      "Data columns (total 12 columns):\n",
      " #   Column        Non-Null Count  Dtype  \n",
      "---  ------        --------------  -----  \n",
      " 0   Area Code     60943 non-null  int64  \n",
      " 1   Area          60943 non-null  object \n",
      " 2   Item Code     60943 non-null  int64  \n",
      " 3   Item          60943 non-null  object \n",
      " 4   Element Code  60943 non-null  int64  \n",
      " 5   Element       60943 non-null  object \n",
      " 6   Unit          60943 non-null  object \n",
      " 7   Y2014         59354 non-null  float64\n",
      " 8   Y2015         59395 non-null  float64\n",
      " 9   Y2016         59408 non-null  float64\n",
      " 10  Y2017         59437 non-null  float64\n",
      " 11  Y2018         59507 non-null  float64\n",
      "dtypes: float64(5), int64(3), object(4)\n",
      "memory usage: 5.6+ MB\n",
      "None\n",
      "\n",
      "Descriptive statistics:\n",
      "          Area Code     Item Code  Element Code          Y2014          Y2015  \\\n",
      "count  60943.000000  60943.000000  60943.000000   59354.000000   59395.000000   \n",
      "mean     134.265576   2687.176706   3814.856456     134.196282     135.235966   \n",
      "std       72.605709    146.055739   2212.007033    1567.663696    1603.403984   \n",
      "min        4.000000   2501.000000    511.000000   -1796.000000   -3161.000000   \n",
      "25%       74.000000   2562.000000    684.000000       0.000000       0.000000   \n",
      "50%      136.000000   2630.000000   5142.000000       0.090000       0.080000   \n",
      "75%      195.000000   2775.000000   5511.000000       8.340000       8.460000   \n",
      "max      276.000000   2961.000000   5911.000000  176405.000000  181137.000000   \n",
      "\n",
      "               Y2016          Y2017          Y2018  \n",
      "count   59408.000000   59437.000000   59507.000000  \n",
      "mean      136.555222     140.917765     143.758381  \n",
      "std      1640.007194    1671.862359    1710.782658  \n",
      "min     -3225.000000   -1582.000000   -3396.000000  \n",
      "25%         0.000000       0.000000       0.000000  \n",
      "50%         0.080000       0.100000       0.070000  \n",
      "75%         8.430000       9.000000       9.000000  \n",
      "max    185960.000000  190873.000000  195875.000000  \n",
      "\n",
      "Column names:\n",
      "Index(['Area Code', 'Area', 'Item Code', 'Item', 'Element Code', 'Element',\n",
      "       'Unit', 'Y2014', 'Y2015', 'Y2016', 'Y2017', 'Y2018'],\n",
      "      dtype='object')\n"
     ]
    }
   ],
   "source": [
    "import pandas as pd\n",
    "\n",
    "# Display the first few rows of the DataFrame\n",
    "print(\"First few rows:\")\n",
    "print(df.head())\n",
    "\n",
    "# Display the last few rows of the DataFrame\n",
    "print(\"\\nLast few rows:\")\n",
    "print(df.tail())\n",
    "\n",
    "# Display summary information about the DataFrame\n",
    "print(\"\\nDataFrame info:\")\n",
    "print(df.info())\n",
    "\n",
    "# Generate descriptive statistics for numerical columns\n",
    "print(\"\\nDescriptive statistics:\")\n",
    "print(df.describe())\n",
    "\n",
    "# Display the column names\n",
    "print(\"\\nColumn names:\")\n",
    "print(df.columns)\n"
   ]
  },
  {
   "cell_type": "markdown",
   "id": "4793fc3d-699f-4c01-abcc-ce61beca9a08",
   "metadata": {},
   "source": [
    "Select columns ‘Y2017’ and ‘Area’, Perform a groupby operation on ‘Area’.  Which of these Areas had the highest sum in 2017?"
   ]
  },
  {
   "cell_type": "code",
   "execution_count": 7,
   "id": "9496a998-a7e8-42cb-a1a0-0fd1e3f5dea1",
   "metadata": {},
   "outputs": [
    {
     "name": "stdout",
     "output_type": "stream",
     "text": [
      "Area with the highest sum in 2017: Nigeria\n"
     ]
    }
   ],
   "source": [
    "import pandas as pd\n",
    "\n",
    "# Selecting columns 'Y2017' and 'Area'\n",
    "selected_data = df[['Y2017', 'Area']]\n",
    "\n",
    "# Grouping by 'Area' and calculating the sum for 'Y2017'\n",
    "sum_by_area = selected_data.groupby('Area')['Y2017'].sum()\n",
    "\n",
    "# Finding the area with the highest sum in 2017\n",
    "area_with_highest_sum = sum_by_area.idxmax()\n",
    "\n",
    "print(\"Area with the highest sum in 2017:\", area_with_highest_sum)\n"
   ]
  },
  {
   "cell_type": "markdown",
   "id": "94e484ae-51b3-4187-9767-2bdf506faefc",
   "metadata": {},
   "source": [
    "What would be the output for?\r\n",
    "\r\n",
    "S = [['him', 'sell'], [90, 28, 43]]\r\n",
    "\r\n",
    "S[0][1][1]"
   ]
  },
  {
   "cell_type": "code",
   "execution_count": 8,
   "id": "6b5d2acf-bdfe-49b7-9230-adc30cbb3bb1",
   "metadata": {},
   "outputs": [
    {
     "name": "stdout",
     "output_type": "stream",
     "text": [
      "e\n"
     ]
    }
   ],
   "source": [
    "S = [['him', 'sell'], [90, 28, 43]]\n",
    "\n",
    "output = S[0][1][1]\n",
    "print(output)\n"
   ]
  },
  {
   "cell_type": "code",
   "execution_count": null,
   "id": "5e6d0e1a-ad2f-40d1-a18c-65e557c5d7c7",
   "metadata": {},
   "outputs": [],
   "source": [
    "Given the following numpy array \n",
    "\n",
    "array  = ([[94, 89, 63],\n",
    "\n",
    "             [93, 92, 48],\n",
    "\n",
    "             [92, 94, 56]])\n",
    "\n",
    "How would you select  the elements in bold and italics from the array?"
   ]
  },
  {
   "cell_type": "code",
   "execution_count": 13,
   "id": "ae0b30e4-0094-4af2-85a2-7c69cdeaca84",
   "metadata": {},
   "outputs": [
    {
     "name": "stdout",
     "output_type": "stream",
     "text": [
      "Selected elements:\n",
      "[[89 63]\n",
      " [92 48]]\n"
     ]
    }
   ],
   "source": [
    "import numpy as np\n",
    "\n",
    "# Given numpy array\n",
    "array = np.array([[94, 89, 63], [93, 92, 48], [92, 94, 56]])\n",
    "\n",
    "# Selecting the elements in bold and italics\n",
    "selected_elements = array[:2, 1:]\n",
    "\n",
    "print(\"Selected elements:\")\n",
    "print(selected_elements)\n"
   ]
  },
  {
   "cell_type": "markdown",
   "id": "59beb786-d35a-402f-8a43-15d1a0baf7d2",
   "metadata": {},
   "source": [
    "Select columns ‘Y2017’ and ‘Area’, Perform a groupby operation on ‘Area’.  Which of these Areas had the 7th lowest sum in 2017?"
   ]
  },
  {
   "cell_type": "code",
   "execution_count": 10,
   "id": "b10afe73-574d-44c6-adc7-efd590231a1b",
   "metadata": {},
   "outputs": [
    {
     "name": "stdout",
     "output_type": "stream",
     "text": [
      "Area with the 7th lowest sum in 2017: Guinea-Bissau\n"
     ]
    }
   ],
   "source": [
    "import pandas as pd\n",
    "\n",
    "# Selecting columns 'Y2017' and 'Area'\n",
    "selected_data = df[['Y2017', 'Area']]\n",
    "\n",
    "# Grouping by 'Area' and calculating the sum for 'Y2017' for each area\n",
    "sum_by_area = selected_data.groupby('Area')['Y2017'].sum()\n",
    "\n",
    "# Sorting the resulting DataFrame by the sum of 'Y2017' in ascending order\n",
    "sorted_sum_by_area = sum_by_area.sort_values()\n",
    "\n",
    "# Selecting the area with the 7th lowest sum in 2017\n",
    "seventh_lowest_area = sorted_sum_by_area.index[6]\n",
    "\n",
    "print(\"Area with the 7th lowest sum in 2017:\", seventh_lowest_area)\n"
   ]
  },
  {
   "cell_type": "markdown",
   "id": "2bcbea16-cb4f-4a0a-851f-39736a0215a0",
   "metadata": {},
   "source": [
    "If you have the following list\n",
    "\n",
    "lst = [[35, 'Portugal', 94], [33, 'Argentina', 93], [30 , 'Brazil', 92]]\n",
    "\n",
    "col = [‘Age’,’Nationality’,’Overall’]\n",
    "\n",
    "How do you create a pandas DataFrame using this list, to look like the table below?\n",
    "\n"
   ]
  },
  {
   "cell_type": "code",
   "execution_count": 12,
   "id": "1667b93d-e0dd-4dd7-9047-6268bed9d008",
   "metadata": {},
   "outputs": [
    {
     "data": {
      "text/html": [
       "<div>\n",
       "<style scoped>\n",
       "    .dataframe tbody tr th:only-of-type {\n",
       "        vertical-align: middle;\n",
       "    }\n",
       "\n",
       "    .dataframe tbody tr th {\n",
       "        vertical-align: top;\n",
       "    }\n",
       "\n",
       "    .dataframe thead th {\n",
       "        text-align: right;\n",
       "    }\n",
       "</style>\n",
       "<table border=\"1\" class=\"dataframe\">\n",
       "  <thead>\n",
       "    <tr style=\"text-align: right;\">\n",
       "      <th></th>\n",
       "      <th>Age</th>\n",
       "      <th>Nationality</th>\n",
       "      <th>Overall</th>\n",
       "    </tr>\n",
       "  </thead>\n",
       "  <tbody>\n",
       "    <tr>\n",
       "      <th>1</th>\n",
       "      <td>35</td>\n",
       "      <td>Portugal</td>\n",
       "      <td>94</td>\n",
       "    </tr>\n",
       "    <tr>\n",
       "      <th>2</th>\n",
       "      <td>33</td>\n",
       "      <td>Argentina</td>\n",
       "      <td>93</td>\n",
       "    </tr>\n",
       "    <tr>\n",
       "      <th>3</th>\n",
       "      <td>30</td>\n",
       "      <td>Brazil</td>\n",
       "      <td>92</td>\n",
       "    </tr>\n",
       "  </tbody>\n",
       "</table>\n",
       "</div>"
      ],
      "text/plain": [
       "   Age Nationality  Overall\n",
       "1   35    Portugal       94\n",
       "2   33   Argentina       93\n",
       "3   30      Brazil       92"
      ]
     },
     "execution_count": 12,
     "metadata": {},
     "output_type": "execute_result"
    }
   ],
   "source": [
    "pd.DataFrame(lst, columns=col, index=[i for i in range(1,4)])"
   ]
  },
  {
   "cell_type": "markdown",
   "id": "3f190ae4-13c7-446b-a3cf-1a58985503eb",
   "metadata": {},
   "source": [
    "What is the total number and percentage of missing data in 2014 to 3 decimal places?"
   ]
  },
  {
   "cell_type": "code",
   "execution_count": 28,
   "id": "ca650235-85e1-401e-9647-3b1ed1ca8ee6",
   "metadata": {
    "scrolled": true
   },
   "outputs": [
    {
     "name": "stdout",
     "output_type": "stream",
     "text": [
      "1589\n",
      "Percentage of missing data in 2014: 2.607%\n"
     ]
    }
   ],
   "source": [
    "# number and percentage of missing data in 2014\n",
    "missing_count = df['Y2014'].isnull().sum()\n",
    "\n",
    "total_entries = df['Y2014'].shape[0]\n",
    "\n",
    "percentage_missing = (missing_count / total_entries) * 100\n",
    "\n",
    "print(missing_count)\n",
    "print(\"Percentage of missing data in 2014: {:.3f}%\".format(percentage_missing))\n"
   ]
  },
  {
   "cell_type": "markdown",
   "id": "1ec4f84c-ead6-4f2d-90ef-22554d19a804",
   "metadata": {},
   "source": [
    "Answer the following questions based on the African food production dataset provided by the FAO website already provided\r\n",
    "\r\n",
    "What is the total sum of Wine produced in 2015 and 2018 respectively?\r\n",
    "\r\n",
    "Hint:\r\n",
    "\r\n",
    "Perform a groupby sum aggregation on ‘Item’"
   ]
  },
  {
   "cell_type": "code",
   "execution_count": 31,
   "id": "1c9947c5-297f-4d3a-807e-27c27ad8d866",
   "metadata": {},
   "outputs": [
    {
     "name": "stdout",
     "output_type": "stream",
     "text": [
      "4251.8099999999995\n",
      "4039.3199999999997\n"
     ]
    }
   ],
   "source": [
    "wine_production = df[df['Item'] == 'Wine']\n",
    "\n",
    "wine_2015_sum = wine_production['Y2015'].sum()\n",
    "wine_2018_sum = wine_production['Y2018'].sum()\n",
    "\n",
    "print (wine_2015_sum)\n",
    "print (wine_2018_sum)"
   ]
  },
  {
   "cell_type": "code",
   "execution_count": 21,
   "id": "9275ac64-41e2-4737-8ce6-e7e53c96652d",
   "metadata": {},
   "outputs": [
    {
     "name": "stdout",
     "output_type": "stream",
     "text": [
      "Year with the highest sum of Stock Variation: Y2014\n"
     ]
    },
    {
     "name": "stderr",
     "output_type": "stream",
     "text": [
      "C:\\Users\\PC\\AppData\\Local\\Temp\\ipykernel_316\\168998054.py:9: FutureWarning: Series.__getitem__ treating keys as positions is deprecated. In a future version, integer keys will always be treated as labels (consistent with DataFrame behavior). To access a value by position, use `ser.iloc[pos]`\n",
      "  year_highest_sum = sum_by_year.idxmax(axis=1)[0]  # Assuming there's only one row\n"
     ]
    }
   ],
   "source": [
    "\n",
    "# Filter the DataFrame for rows where the 'Element' column contains 'Stock Variation'\n",
    "stock_variation_data = df[df['Element'] == 'Stock Variation']\n",
    "\n",
    "# Group the filtered data by the 'Element' column and calculate the sum of each year\n",
    "sum_by_year = stock_variation_data.groupby('Element')[['Y2014', 'Y2015', 'Y2016', 'Y2017', 'Y2018']].sum()\n",
    "\n",
    "# Find the year with the highest sum\n",
    "year_highest_sum = sum_by_year.idxmax(axis=1)[0]  # Assuming there's only one row\n",
    "\n",
    "print(\"Year with the highest sum of Stock Variation:\", year_highest_sum)\n"
   ]
  },
  {
   "cell_type": "code",
   "execution_count": 23,
   "id": "c170d730-d587-4a23-aace-a124dd9314bc",
   "metadata": {},
   "outputs": [
    {
     "name": "stdout",
     "output_type": "stream",
     "text": [
      "Mean for the year 2017: 140.92\n",
      "Standard deviation for the year 2017: 1671.86\n"
     ]
    }
   ],
   "source": [
    "year_2017_data = df['Y2017']\n",
    "\n",
    "# Calculate the mean and standard deviation of the values in this column\n",
    "mean_2017 = year_2017_data.mean()\n",
    "std_dev_2017 = year_2017_data.std()\n",
    "\n",
    "# Round the mean and standard deviation to 2 decimal places\n",
    "mean_2017 = round(mean_2017, 2)\n",
    "std_dev_2017 = round(std_dev_2017, 2)\n",
    "\n",
    "print(\"Mean for the year 2017:\", mean_2017)\n",
    "print(\"Standard deviation for the year 2017:\", std_dev_2017)\n"
   ]
  },
  {
   "cell_type": "markdown",
   "id": "aac8274f-dec5-4a79-a1b1-3f716d89b094",
   "metadata": {},
   "source": [
    "What is the total Protein supply quantity in Madagascar in 2015?"
   ]
  },
  {
   "cell_type": "code",
   "execution_count": 27,
   "id": "9d3ca05d-2131-4d8f-8ba1-a022c2be45dd",
   "metadata": {},
   "outputs": [
    {
     "data": {
      "text/plain": [
       "173.04999999999998"
      ]
     },
     "execution_count": 27,
     "metadata": {},
     "output_type": "execute_result"
    }
   ],
   "source": [
    "# protein supply quantity in Madagascar 2015\n",
    "protein_madagascar_2015 = df[(df['Area'] == 'Madagascar') & (df['Element'] == 'Protein supply quantity (g/capita/day)')]['Y2015']\n",
    "\n",
    "total_protein_madagascar_2015 = protein_madagascar_2015.sum()\n",
    "\n",
    "total_protein_madagascar_2015\n"
   ]
  },
  {
   "cell_type": "markdown",
   "id": "b56beb03-7b7a-465d-9c27-37672f530152",
   "metadata": {},
   "source": [
    "What is the total number of unique countries in the dataset?"
   ]
  },
  {
   "cell_type": "code",
   "execution_count": 25,
   "id": "a8ea66da-a083-49f4-b588-d2db7d0c58d2",
   "metadata": {},
   "outputs": [
    {
     "name": "stdout",
     "output_type": "stream",
     "text": [
      "Total number of unique countries in the dataset: 49\n"
     ]
    }
   ],
   "source": [
    "# Assuming df is your DataFrame\n",
    "# Count the number of unique countries in the 'Area' column\n",
    "total_unique_countries = df['Area'].nunique()\n",
    "\n",
    "print(\"Total number of unique countries in the dataset:\", total_unique_countries)\n"
   ]
  },
  {
   "cell_type": "markdown",
   "id": "7baeab15-9457-4128-9d9f-cb886c47f0da",
   "metadata": {},
   "source": [
    "Which year had the least correlation with ‘Element Code’?"
   ]
  },
  {
   "cell_type": "code",
   "execution_count": 26,
   "id": "72d64ee4-9c12-4eff-a6e1-dfd07ebbff17",
   "metadata": {},
   "outputs": [
    {
     "name": "stdout",
     "output_type": "stream",
     "text": [
      "Year with the least correlation with 'Element Code': Y2016\n"
     ]
    }
   ],
   "source": [
    "\n",
    "correlation_with_element_code = df[['Element Code', 'Y2014', 'Y2015', 'Y2016', 'Y2017', 'Y2018']].corr()['Element Code']\n",
    "\n",
    "# Drop 'Element Code' itself from the correlation results\n",
    "correlation_with_element_code = correlation_with_element_code.drop('Element Code')\n",
    "\n",
    "# Find the year with the least correlation\n",
    "least_correlated_year = correlation_with_element_code.idxmin()\n",
    "\n",
    "print(\"Year with the least correlation with 'Element Code':\", least_correlated_year)\n"
   ]
  }
 ],
 "metadata": {
  "kernelspec": {
   "display_name": "Python 3 (ipykernel)",
   "language": "python",
   "name": "python3"
  },
  "language_info": {
   "codemirror_mode": {
    "name": "ipython",
    "version": 3
   },
   "file_extension": ".py",
   "mimetype": "text/x-python",
   "name": "python",
   "nbconvert_exporter": "python",
   "pygments_lexer": "ipython3",
   "version": "3.11.7"
  }
 },
 "nbformat": 4,
 "nbformat_minor": 5
}
