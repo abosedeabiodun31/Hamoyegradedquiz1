{
 "cells": [
  {
   "cell_type": "code",
   "execution_count": 3,
   "id": "74efb43a-23c3-4db3-9c2d-89d96928c747",
   "metadata": {},
   "outputs": [
    {
     "name": "stdout",
     "output_type": "stream",
     "text": [
      "                  date  Appliances  lights     T1       RH_1    T2       RH_2  \\\n",
      "0  2016-01-11 17:00:00          60      30  19.89  47.596667  19.2  44.790000   \n",
      "1  2016-01-11 17:10:00          60      30  19.89  46.693333  19.2  44.722500   \n",
      "2  2016-01-11 17:20:00          50      30  19.89  46.300000  19.2  44.626667   \n",
      "3  2016-01-11 17:30:00          50      40  19.89  46.066667  19.2  44.590000   \n",
      "4  2016-01-11 17:40:00          60      40  19.89  46.333333  19.2  44.530000   \n",
      "\n",
      "      T3       RH_3         T4  ...         T9   RH_9     T_out  Press_mm_hg  \\\n",
      "0  19.79  44.730000  19.000000  ...  17.033333  45.53  6.600000        733.5   \n",
      "1  19.79  44.790000  19.000000  ...  17.066667  45.56  6.483333        733.6   \n",
      "2  19.79  44.933333  18.926667  ...  17.000000  45.50  6.366667        733.7   \n",
      "3  19.79  45.000000  18.890000  ...  17.000000  45.40  6.250000        733.8   \n",
      "4  19.79  45.000000  18.890000  ...  17.000000  45.40  6.133333        733.9   \n",
      "\n",
      "   RH_out  Windspeed  Visibility  Tdewpoint        rv1        rv2  \n",
      "0    92.0   7.000000   63.000000        5.3  13.275433  13.275433  \n",
      "1    92.0   6.666667   59.166667        5.2  18.606195  18.606195  \n",
      "2    92.0   6.333333   55.333333        5.1  28.642668  28.642668  \n",
      "3    92.0   6.000000   51.500000        5.0  45.410389  45.410389  \n",
      "4    92.0   5.666667   47.666667        4.9  10.084097  10.084097  \n",
      "\n",
      "[5 rows x 29 columns]\n"
     ]
    }
   ],
   "source": [
    "import pandas as pd\n",
    "\n",
    "# Load the dataset into a Pandas DataFrame\n",
    "df = pd.read_csv(\"energydata_complete.csv\")\n",
    "\n",
    "# Display the first few rows of the DataFrame\n",
    "print(df.head())"
   ]
  },
  {
   "cell_type": "code",
   "execution_count": 5,
   "id": "fd33d6d9-9f22-43c2-b238-57f8649fe191",
   "metadata": {},
   "outputs": [
    {
     "name": "stdout",
     "output_type": "stream",
     "text": [
      "Collecting statsmodelsNote: you may need to restart the kernel to use updated packages.\n",
      "\n",
      "  Downloading statsmodels-0.14.2-cp311-cp311-win_amd64.whl.metadata (9.5 kB)\n",
      "Requirement already satisfied: numpy>=1.22.3 in c:\\users\\pc\\.conda\\envs\\pyton\\lib\\site-packages (from statsmodels) (1.26.3)\n",
      "Requirement already satisfied: scipy!=1.9.2,>=1.8 in c:\\users\\pc\\.conda\\envs\\pyton\\lib\\site-packages (from statsmodels) (1.12.0)\n",
      "Requirement already satisfied: pandas!=2.1.0,>=1.4 in c:\\users\\pc\\.conda\\envs\\pyton\\lib\\site-packages (from statsmodels) (2.2.0)\n",
      "Collecting patsy>=0.5.6 (from statsmodels)\n",
      "  Downloading patsy-0.5.6-py2.py3-none-any.whl.metadata (3.5 kB)\n",
      "Requirement already satisfied: packaging>=21.3 in c:\\users\\pc\\appdata\\roaming\\python\\python311\\site-packages (from statsmodels) (24.0)\n",
      "Requirement already satisfied: python-dateutil>=2.8.2 in c:\\users\\pc\\appdata\\roaming\\python\\python311\\site-packages (from pandas!=2.1.0,>=1.4->statsmodels) (2.9.0.post0)\n",
      "Requirement already satisfied: pytz>=2020.1 in c:\\users\\pc\\.conda\\envs\\pyton\\lib\\site-packages (from pandas!=2.1.0,>=1.4->statsmodels) (2023.3.post1)\n",
      "Requirement already satisfied: tzdata>=2022.7 in c:\\users\\pc\\.conda\\envs\\pyton\\lib\\site-packages (from pandas!=2.1.0,>=1.4->statsmodels) (2023.4)\n",
      "Requirement already satisfied: six in c:\\users\\pc\\appdata\\roaming\\python\\python311\\site-packages (from patsy>=0.5.6->statsmodels) (1.16.0)\n",
      "Downloading statsmodels-0.14.2-cp311-cp311-win_amd64.whl (9.9 MB)\n",
      "   ---------------------------------------- 0.0/9.9 MB ? eta -:--:--\n",
      "   ---------------------------------------- 0.0/9.9 MB 660.6 kB/s eta 0:00:15\n",
      "   ---------------------------------------- 0.0/9.9 MB 660.6 kB/s eta 0:00:15\n",
      "   ---------------------------------------- 0.0/9.9 MB 660.6 kB/s eta 0:00:15\n",
      "   ---------------------------------------- 0.0/9.9 MB 660.6 kB/s eta 0:00:15\n",
      "   ---------------------------------------- 0.1/9.9 MB 348.6 kB/s eta 0:00:29\n",
      "   ---------------------------------------- 0.1/9.9 MB 368.6 kB/s eta 0:00:27\n",
      "   ---------------------------------------- 0.1/9.9 MB 368.6 kB/s eta 0:00:27\n",
      "   ---------------------------------------- 0.1/9.9 MB 368.6 kB/s eta 0:00:27\n",
      "   ---------------------------------------- 0.1/9.9 MB 368.6 kB/s eta 0:00:27\n",
      "    --------------------------------------- 0.2/9.9 MB 514.3 kB/s eta 0:00:19\n",
      "    --------------------------------------- 0.2/9.9 MB 514.3 kB/s eta 0:00:19\n",
      "    --------------------------------------- 0.2/9.9 MB 514.3 kB/s eta 0:00:19\n",
      "    --------------------------------------- 0.2/9.9 MB 514.3 kB/s eta 0:00:19\n",
      "   - -------------------------------------- 0.4/9.9 MB 607.1 kB/s eta 0:00:16\n",
      "   -- ------------------------------------- 0.5/9.9 MB 749.3 kB/s eta 0:00:13\n",
      "   -- ------------------------------------- 0.5/9.9 MB 749.3 kB/s eta 0:00:13\n",
      "   -- ------------------------------------- 0.5/9.9 MB 749.3 kB/s eta 0:00:13\n",
      "   -- ------------------------------------- 0.6/9.9 MB 766.8 kB/s eta 0:00:13\n",
      "   --- ------------------------------------ 0.8/9.9 MB 877.7 kB/s eta 0:00:11\n",
      "   --- ------------------------------------ 0.9/9.9 MB 972.0 kB/s eta 0:00:10\n",
      "   --- ------------------------------------ 0.9/9.9 MB 972.0 kB/s eta 0:00:10\n",
      "   --- ------------------------------------ 1.0/9.9 MB 947.4 kB/s eta 0:00:10\n",
      "   ---- ----------------------------------- 1.1/9.9 MB 1.0 MB/s eta 0:00:09\n",
      "   ----- ---------------------------------- 1.3/9.9 MB 1.1 MB/s eta 0:00:08\n",
      "   ----- ---------------------------------- 1.3/9.9 MB 1.1 MB/s eta 0:00:08\n",
      "   ----- ---------------------------------- 1.4/9.9 MB 1.2 MB/s eta 0:00:08\n",
      "   ------ --------------------------------- 1.6/9.9 MB 1.3 MB/s eta 0:00:07\n",
      "   ------ --------------------------------- 1.7/9.9 MB 1.3 MB/s eta 0:00:07\n",
      "   ------- -------------------------------- 1.8/9.9 MB 1.3 MB/s eta 0:00:07\n",
      "   ------- -------------------------------- 1.9/9.9 MB 1.3 MB/s eta 0:00:06\n",
      "   -------- ------------------------------- 2.0/9.9 MB 1.4 MB/s eta 0:00:06\n",
      "   -------- ------------------------------- 2.1/9.9 MB 1.4 MB/s eta 0:00:06\n",
      "   -------- ------------------------------- 2.2/9.9 MB 1.4 MB/s eta 0:00:06\n",
      "   --------- ------------------------------ 2.3/9.9 MB 1.4 MB/s eta 0:00:06\n",
      "   ---------- ----------------------------- 2.5/9.9 MB 1.5 MB/s eta 0:00:05\n",
      "   ---------- ----------------------------- 2.6/9.9 MB 1.6 MB/s eta 0:00:05\n",
      "   ---------- ----------------------------- 2.7/9.9 MB 1.5 MB/s eta 0:00:05\n",
      "   ----------- ---------------------------- 2.8/9.9 MB 1.6 MB/s eta 0:00:05\n",
      "   ------------ --------------------------- 3.0/9.9 MB 1.6 MB/s eta 0:00:05\n",
      "   ------------ --------------------------- 3.1/9.9 MB 1.7 MB/s eta 0:00:04\n",
      "   ------------- -------------------------- 3.2/9.9 MB 1.7 MB/s eta 0:00:04\n",
      "   ------------- -------------------------- 3.4/9.9 MB 1.7 MB/s eta 0:00:04\n",
      "   -------------- ------------------------- 3.6/9.9 MB 1.8 MB/s eta 0:00:04\n",
      "   -------------- ------------------------- 3.6/9.9 MB 1.8 MB/s eta 0:00:04\n",
      "   -------------- ------------------------- 3.6/9.9 MB 1.8 MB/s eta 0:00:04\n",
      "   --------------- ------------------------ 3.8/9.9 MB 1.8 MB/s eta 0:00:04\n",
      "   ---------------- ----------------------- 4.0/9.9 MB 1.8 MB/s eta 0:00:04\n",
      "   ---------------- ----------------------- 4.2/9.9 MB 1.9 MB/s eta 0:00:04\n",
      "   ----------------- ---------------------- 4.2/9.9 MB 1.9 MB/s eta 0:00:04\n",
      "   ------------------ --------------------- 4.4/9.9 MB 1.9 MB/s eta 0:00:03\n",
      "   ------------------ --------------------- 4.7/9.9 MB 2.0 MB/s eta 0:00:03\n",
      "   ------------------- -------------------- 4.8/9.9 MB 2.0 MB/s eta 0:00:03\n",
      "   ------------------- -------------------- 4.8/9.9 MB 2.0 MB/s eta 0:00:03\n",
      "   -------------------- ------------------- 4.9/9.9 MB 2.0 MB/s eta 0:00:03\n",
      "   -------------------- ------------------- 5.1/9.9 MB 2.0 MB/s eta 0:00:03\n",
      "   --------------------- ------------------ 5.4/9.9 MB 2.1 MB/s eta 0:00:03\n",
      "   ---------------------- ----------------- 5.4/9.9 MB 2.1 MB/s eta 0:00:03\n",
      "   ---------------------- ----------------- 5.4/9.9 MB 2.1 MB/s eta 0:00:03\n",
      "   ---------------------- ----------------- 5.5/9.9 MB 2.0 MB/s eta 0:00:03\n",
      "   ---------------------- ----------------- 5.5/9.9 MB 2.0 MB/s eta 0:00:03\n",
      "   ---------------------- ----------------- 5.6/9.9 MB 2.0 MB/s eta 0:00:03\n",
      "   ------------------------ --------------- 6.0/9.9 MB 2.1 MB/s eta 0:00:02\n",
      "   ------------------------ --------------- 6.1/9.9 MB 2.1 MB/s eta 0:00:02\n",
      "   ------------------------- -------------- 6.2/9.9 MB 2.1 MB/s eta 0:00:02\n",
      "   ------------------------- -------------- 6.3/9.9 MB 2.1 MB/s eta 0:00:02\n",
      "   ------------------------- -------------- 6.3/9.9 MB 2.1 MB/s eta 0:00:02\n",
      "   -------------------------- ------------- 6.5/9.9 MB 2.1 MB/s eta 0:00:02\n",
      "   -------------------------- ------------- 6.6/9.9 MB 2.1 MB/s eta 0:00:02\n",
      "   --------------------------- ------------ 6.9/9.9 MB 2.1 MB/s eta 0:00:02\n",
      "   ---------------------------- ----------- 7.0/9.9 MB 2.2 MB/s eta 0:00:02\n",
      "   ----------------------------- ---------- 7.2/9.9 MB 2.2 MB/s eta 0:00:02\n",
      "   ------------------------------ --------- 7.4/9.9 MB 2.2 MB/s eta 0:00:02\n",
      "   ------------------------------ --------- 7.6/9.9 MB 2.2 MB/s eta 0:00:02\n",
      "   ------------------------------- -------- 7.8/9.9 MB 2.3 MB/s eta 0:00:01\n",
      "   -------------------------------- ------- 8.0/9.9 MB 2.3 MB/s eta 0:00:01\n",
      "   --------------------------------- ------ 8.2/9.9 MB 2.3 MB/s eta 0:00:01\n",
      "   ---------------------------------- ----- 8.4/9.9 MB 2.3 MB/s eta 0:00:01\n",
      "   ---------------------------------- ----- 8.6/9.9 MB 2.4 MB/s eta 0:00:01\n",
      "   ----------------------------------- ---- 8.9/9.9 MB 2.4 MB/s eta 0:00:01\n",
      "   ------------------------------------ --- 9.0/9.9 MB 2.4 MB/s eta 0:00:01\n",
      "   ------------------------------------- -- 9.2/9.9 MB 2.4 MB/s eta 0:00:01\n",
      "   -------------------------------------- - 9.5/9.9 MB 2.5 MB/s eta 0:00:01\n",
      "   ---------------------------------------  9.7/9.9 MB 2.5 MB/s eta 0:00:01\n",
      "   ---------------------------------------  9.8/9.9 MB 2.5 MB/s eta 0:00:01\n",
      "   ---------------------------------------  9.9/9.9 MB 2.5 MB/s eta 0:00:01\n",
      "   ---------------------------------------  9.9/9.9 MB 2.5 MB/s eta 0:00:01\n",
      "   ---------------------------------------- 9.9/9.9 MB 2.4 MB/s eta 0:00:00\n",
      "Downloading patsy-0.5.6-py2.py3-none-any.whl (233 kB)\n",
      "   ---------------------------------------- 0.0/233.9 kB ? eta -:--:--\n",
      "   --------------------------------------- 233.9/233.9 kB 14.0 MB/s eta 0:00:00\n",
      "Installing collected packages: patsy, statsmodels\n",
      "Successfully installed patsy-0.5.6 statsmodels-0.14.2\n"
     ]
    }
   ],
   "source": [
    "pip install statsmodels"
   ]
  },
  {
   "cell_type": "code",
   "execution_count": 6,
   "id": "23edb6a7-5fde-4387-a0f7-4cc3277a9cd1",
   "metadata": {},
   "outputs": [
    {
     "name": "stdout",
     "output_type": "stream",
     "text": [
      "Root Mean Squared Error: 3.644\n"
     ]
    }
   ],
   "source": [
    "import pandas as pd\n",
    "import numpy as np\n",
    "import statsmodels.api as sm\n",
    "\n",
    "# Select the relevant columns\n",
    "X = df['T2']\n",
    "Y = df['T6']\n",
    "\n",
    "X = sm.add_constant(X)\n",
    "\n",
    "# Fit the linear model\n",
    "model = sm.OLS(Y, X).fit()\n",
    "\n",
    "# Predict the values\n",
    "Y_pred = model.predict(X)\n",
    "\n",
    "# Calculate the RMSE\n",
    "RMSE = np.sqrt(np.mean((Y - Y_pred) ** 2))\n",
    "\n",
    "print('Root Mean Squared Error: {:.3f}'.format(RMSE))\n",
    "\n"
   ]
  },
  {
   "cell_type": "code",
   "execution_count": 9,
   "id": "d9cd0ec1-8c9e-4c9f-8735-c95e91174458",
   "metadata": {},
   "outputs": [
    {
     "name": "stdout",
     "output_type": "stream",
     "text": [
      "Mean Absolute Error (Training Set): 53.743\n"
     ]
    }
   ],
   "source": [
    "import pandas as pd\n",
    "from sklearn.model_selection import train_test_split\n",
    "from sklearn.preprocessing import MinMaxScaler\n",
    "from sklearn.linear_model import LinearRegression\n",
    "from sklearn.metrics import mean_absolute_error\n",
    "\n",
    "# Remove unnecessary columns\n",
    "data = df.drop(columns=[\"date\", \"lights\"])\n",
    "\n",
    "# Split data into training and testing sets\n",
    "X_train, X_test, y_train, y_test = train_test_split(\n",
    "    data.drop(\"Appliances\", axis=1), data[\"Appliances\"], test_size=0.3, random_state=42\n",
    ")\n",
    "\n",
    "# Normalize features\n",
    "scaler = MinMaxScaler()\n",
    "X_train_scaled = scaler.fit_transform(X_train)\n",
    "X_test_scaled = scaler.transform(X_test)\n",
    "\n",
    "# Create and train the multiple linear regression model\n",
    "model = LinearRegression()\n",
    "model.fit(X_train_scaled, y_train)\n",
    "\n",
    "# Make predictions on training data\n",
    "y_pred_train = model.predict(X_train_scaled)\n",
    "\n",
    "# Calculate Mean Absolute Error for the training set\n",
    "mae_train = mean_absolute_error(y_train, y_pred_train)\n",
    "\n",
    "# Print the Mean Absolute Error (rounded to three decimal places)\n",
    "print(f\"Mean Absolute Error (Training Set): {mae_train:.3f}\")\n"
   ]
  },
  {
   "cell_type": "code",
   "execution_count": 10,
   "id": "255ff90d-add6-425f-8bc7-ef050f73a49b",
   "metadata": {},
   "outputs": [
    {
     "name": "stdout",
     "output_type": "stream",
     "text": [
      "Root Mean Squared Error (Training Set): 95.216\n"
     ]
    },
    {
     "name": "stderr",
     "output_type": "stream",
     "text": [
      "C:\\Users\\PC\\.conda\\envs\\PYTON\\Lib\\site-packages\\sklearn\\metrics\\_regression.py:483: FutureWarning: 'squared' is deprecated in version 1.4 and will be removed in 1.6. To calculate the root mean squared error, use the function'root_mean_squared_error'.\n",
      "  warnings.warn(\n"
     ]
    }
   ],
   "source": [
    "# Make predictions on training data\n",
    "y_pred_train = model.predict(X_train_scaled)\n",
    "\n",
    "# Calculate Mean Absolute Error for the training set\n",
    "mae_train = mean_absolute_error(y_train, y_pred_train)\n",
    "\n",
    "# Import library for RMSE calculation\n",
    "from sklearn.metrics import mean_squared_error\n",
    "\n",
    "# Calculate Root Mean Squared Error for the training set\n",
    "rmse_train = mean_squared_error(y_train, y_pred_train, squared=False)  # squared=False for RMSE\n",
    "\n",
    "# Print the Root Mean Squared Error (rounded to three decimal places)\n",
    "print(f\"Root Mean Squared Error (Training Set): {rmse_train:.3f}\")\n"
   ]
  },
  {
   "cell_type": "code",
   "execution_count": 12,
   "id": "2f3326ea-ad75-4f75-b955-91e8d819d730",
   "metadata": {},
   "outputs": [
    {
     "name": "stdout",
     "output_type": "stream",
     "text": [
      "Mean Absolute Error (Test Set): 53.643\n"
     ]
    }
   ],
   "source": [
    "import pandas as pd\n",
    "from sklearn.model_selection import train_test_split\n",
    "from sklearn.preprocessing import MinMaxScaler\n",
    "from sklearn.linear_model import LinearRegression\n",
    "from sklearn.metrics import mean_absolute_error, mean_squared_error\n",
    "\n",
    "\n",
    "data = df.drop(columns=[\"date\", \"lights\"])\n",
    "\n",
    "# Split data into training and testing sets\n",
    "X_train, X_test, y_train, y_test = train_test_split(\n",
    "    data.drop(\"Appliances\", axis=1), data[\"Appliances\"], test_size=0.3, random_state=42\n",
    ")\n",
    "\n",
    "# Normalize features\n",
    "scaler = MinMaxScaler()\n",
    "X_train_scaled = scaler.fit_transform(X_train)\n",
    "X_test_scaled = scaler.transform(X_test)\n",
    "\n",
    "# Create and train the multiple linear regression model\n",
    "model = LinearRegression()\n",
    "model.fit(X_train_scaled, y_train)\n",
    "\n",
    "# Make predictions on training and testing data\n",
    "y_pred_train = model.predict(X_train_scaled)\n",
    "y_pred_test = model.predict(X_test_scaled)\n",
    "\n",
    "# Calculate Mean Absolute Error for training and test sets\n",
    "mae_train = mean_absolute_error(y_train, y_pred_train)\n",
    "mae_test = mean_absolute_error(y_test, y_pred_test)\n",
    "\n",
    "# Print the Mean Absolute Errors (rounded to three decimal places)\n",
    "print(f\"Mean Absolute Error (Test Set): {mae_test:.3f}\")\n"
   ]
  },
  {
   "cell_type": "code",
   "execution_count": 14,
   "id": "2248679f-ee55-48fb-b333-abdfc52d39a0",
   "metadata": {},
   "outputs": [
    {
     "name": "stdout",
     "output_type": "stream",
     "text": [
      "Mean Absolute Error (Training Set): 53.743\n",
      "Mean Absolute Error (Test Set): 53.643\n",
      "Root Mean Squared Error (Training Set): 95.216\n",
      "Root Mean Squared Error (Test Set): 93.640\n"
     ]
    },
    {
     "name": "stderr",
     "output_type": "stream",
     "text": [
      "C:\\Users\\PC\\.conda\\envs\\PYTON\\Lib\\site-packages\\sklearn\\metrics\\_regression.py:483: FutureWarning: 'squared' is deprecated in version 1.4 and will be removed in 1.6. To calculate the root mean squared error, use the function'root_mean_squared_error'.\n",
      "  warnings.warn(\n",
      "C:\\Users\\PC\\.conda\\envs\\PYTON\\Lib\\site-packages\\sklearn\\metrics\\_regression.py:483: FutureWarning: 'squared' is deprecated in version 1.4 and will be removed in 1.6. To calculate the root mean squared error, use the function'root_mean_squared_error'.\n",
      "  warnings.warn(\n"
     ]
    }
   ],
   "source": [
    "import pandas as pd\n",
    "from sklearn.model_selection import train_test_split\n",
    "from sklearn.preprocessing import MinMaxScaler\n",
    "from sklearn.linear_model import LinearRegression\n",
    "from sklearn.metrics import mean_absolute_error, mean_squared_error\n",
    "\n",
    "data = df.drop(columns=[\"date\", \"lights\"])\n",
    "\n",
    "# Split data into training and testing sets\n",
    "X_train, X_test, y_train, y_test = train_test_split(\n",
    "    data.drop(\"Appliances\", axis=1), data[\"Appliances\"], test_size=0.3, random_state=42\n",
    ")\n",
    "\n",
    "# Normalize features\n",
    "scaler = MinMaxScaler()\n",
    "X_train_scaled = scaler.fit_transform(X_train)\n",
    "X_test_scaled = scaler.transform(X_test)\n",
    "\n",
    "# Create and train the multiple linear regression model\n",
    "model = LinearRegression()\n",
    "model.fit(X_train_scaled, y_train)\n",
    "\n",
    "# Make predictions on training and testing data\n",
    "y_pred_train = model.predict(X_train_scaled)\n",
    "y_pred_test = model.predict(X_test_scaled)\n",
    "\n",
    "# Calculate Mean Absolute Error and Root Mean Squared Error for training and test sets\n",
    "mae_train = mean_absolute_error(y_train, y_pred_train)\n",
    "mae_test = mean_absolute_error(y_test, y_pred_test)\n",
    "rmse_train = mean_squared_error(y_train, y_pred_train, squared=False)  # squared=False for RMSE\n",
    "rmse_test = mean_squared_error(y_test, y_pred_test, squared=False)  # squared=False for RMSE\n",
    "\n",
    "# Print the results (rounded to three decimal places)\n",
    "print(f\"Root Mean Squared Error (Training Set): {rmse_train:.3f}\")\n",
    "print(f\"Root Mean Squared Error (Test Set): {rmse_test:.3f}\")\n"
   ]
  },
  {
   "cell_type": "code",
   "execution_count": 18,
   "id": "ba0fa042-1817-4715-879b-ffcdfbb01d07",
   "metadata": {},
   "outputs": [
    {
     "name": "stdout",
     "output_type": "stream",
     "text": [
      "Number of features with non-zero weights: 4\n"
     ]
    }
   ],
   "source": [
    "import pandas as pd\n",
    "from sklearn.model_selection import train_test_split\n",
    "from sklearn.linear_model import Lasso\n",
    "from sklearn.preprocessing import MinMaxScaler  # For normalization (optional)\n",
    "\n",
    "# Select features and target variable (assuming Appliances is the target)\n",
    "X = df.drop(columns=[\"date\", \"Appliances\"])  # Adjust based on your feature selection\n",
    "y = df[\"Appliances\"]\n",
    "\n",
    "# Preprocess data (e.g., handle time, missing values)\n",
    "# ... your data preprocessing steps here ...\n",
    "\n",
    "# Split data into training and testing sets\n",
    "X_train, X_test, y_train, y_test = train_test_split(X, y, test_size=0.3, random_state=42)\n",
    "\n",
    "# Optional: Feature normalization (consider if features have different scales)\n",
    "scaler = MinMaxScaler()\n",
    "X_train_scaled = scaler.fit_transform(X_train)\n",
    "X_test_scaled = scaler.transform(X_test)\n",
    "\n",
    "# Train Lasso model with default alpha\n",
    "lasso_model = Lasso()\n",
    "lasso_model.fit(X_train_scaled, y_train)\n",
    "\n",
    "# Get number of non-zero feature weights\n",
    "feature_weights = lasso_model.coef_\n",
    "num_non_zero_weights = (feature_weights != 0).sum()\n",
    "print(f\"Number of features with non-zero weights: {num_non_zero_weights}\")\n",
    "\n"
   ]
  },
  {
   "cell_type": "code",
   "execution_count": 24,
   "id": "861e45fc-2fd5-4367-9d60-c0805d31a84d",
   "metadata": {},
   "outputs": [
    {
     "name": "stdout",
     "output_type": "stream",
     "text": [
      "Root Mean Squared Error (Test Set): 98.049\n"
     ]
    }
   ],
   "source": [
    "import pandas as pd\n",
    "from sklearn.model_selection import train_test_split\n",
    "from sklearn.linear_model import Lasso\n",
    "from sklearn.preprocessing import MinMaxScaler\n",
    "from sklearn.metrics import root_mean_squared_error\n",
    "\n",
    "\n",
    "\n",
    "X = df.drop(columns=[\"date\", \"Appliances\"])  # Adjust based on your feature selection\n",
    "y = df[\"Appliances\"]\n",
    "\n",
    "# Split data into training and testing sets\n",
    "X_train, X_test, y_train, y_test = train_test_split(X, y, test_size=0.3, random_state=42)\n",
    "\n",
    "# Optional: Feature normalization (consider if features have different scales)\n",
    "scaler = MinMaxScaler()\n",
    "X_train_scaled = scaler.fit_transform(X_train)\n",
    "X_test_scaled = scaler.transform(X_test)\n",
    "\n",
    "# Train Lasso model with default alpha\n",
    "lasso_model = Lasso()\n",
    "lasso_model.fit(X_train_scaled, y_train)\n",
    "\n",
    "# Make predictions on test set\n",
    "y_pred_test = lasso_model.predict(X_test_scaled)\n",
    "\n",
    "# Calculate RMSE on test set (without 'squared' argument)\n",
    "rmse_test = root_mean_squared_error(y_test, y_pred_test)\n",
    "\n",
    "# Print the result (rounded to three decimal places)\n",
    "print(f\"Root Mean Squared Error (Test Set): {rmse_test:.3f}\")"
   ]
  },
  {
   "cell_type": "code",
   "execution_count": null,
   "id": "937d0b09-cd12-464b-84fb-c6aae2dede91",
   "metadata": {},
   "outputs": [],
   "source": []
  }
 ],
 "metadata": {
  "kernelspec": {
   "display_name": "Python 3 (ipykernel)",
   "language": "python",
   "name": "python3"
  },
  "language_info": {
   "codemirror_mode": {
    "name": "ipython",
    "version": 3
   },
   "file_extension": ".py",
   "mimetype": "text/x-python",
   "name": "python",
   "nbconvert_exporter": "python",
   "pygments_lexer": "ipython3",
   "version": "3.11.7"
  }
 },
 "nbformat": 4,
 "nbformat_minor": 5
}
